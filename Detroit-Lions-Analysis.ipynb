{
 "cells": [
  {
   "cell_type": "markdown",
   "id": "73b90c1c",
   "metadata": {},
   "source": [
    "# Same Old Lions? What's going on with this Franchise and how do we move forward?"
   ]
  },
  {
   "cell_type": "markdown",
   "id": "04999ebd",
   "metadata": {},
   "source": [
    "## Problem Statement\n",
    "\n",
    "The Lions had the #1 Offense going into the game, and yet were still Zapped by the Patriot's third string QB. The end result was the Lions getting shut out by a struggling team. The Lions' struggling against backup QBs is nothing new, and neither is the phenomenon of losing games they should win. \n",
    "\n",
    "What in the world is going on with this franchise? I was 4 when they last won a playoff game. There are probably people who were born around when the Lions last won a playoff game, and have a masters or phd with some work experience. However, even back then they were inconsistent, and nearly always followed great seasons with poor ones. \n",
    "\n",
    "In recent years, it seemed like Jim Caldwell started to turn things around. However, he was let go pretty promptly for a coach that decided to upend the entire organization. The result has been a team that was once fighting for playoffs spots to living on the bottom of the league.\n",
    "\n",
    "I think there are some important questions to answer here:\n",
    "\n",
    "- Was it right to fire Caldwell because \"9-7 isn't good enough\"? Was he likely the guy to fix the Lions woes?\n",
    "- Did Patricia have nearly as much work as he felt when he took over the Lions? \n",
    "- How does MCDC's first season stack up with where it should have? \n",
    "- What is the overall trajectory of the Lions at this point?\n",
    "- Since it's rare for a team to fire a coach halfway through a season, what are some playcalling adjustments MCDC can make?\n",
    "- How many wins can the Lions reasonably expect from MCDC in his second season if making the playoffs is the goal in his 3rd year?"
   ]
  },
  {
   "cell_type": "markdown",
   "id": "345e64d6",
   "metadata": {},
   "source": [
    "### Lions Historical performance (2017-2021)\n",
    "\n",
    "The dataset contains 19 years of data (2019-2002) from 31 teams. I ommitted the Lions because we know how they did, and I did not want to risk the data overfitting to them at all. There is plenty of data without them anyway.\n",
    "\n",
    "I went so far back with the data because 2002 is the last year the NFL has expanded. I also just wanted plenty of data to work with for this analysis."
   ]
  },
  {
   "cell_type": "markdown",
   "id": "7002bde3",
   "metadata": {},
   "source": [
    "#### Import libraries"
   ]
  },
  {
   "cell_type": "code",
   "execution_count": 1,
   "id": "a3a4a01a",
   "metadata": {},
   "outputs": [],
   "source": [
    "import pandas as pd\n",
    "import matplotlib.pyplot as plt\n",
    "import numpy as np\n",
    "\n",
    "nfl_df = pd.read_csv(\"./Data/NFLStats.csv\")"
   ]
  },
  {
   "cell_type": "markdown",
   "id": "10772f4c",
   "metadata": {},
   "source": [
    "#### Get a sample of the dataset\n",
    "\n",
    "This will help me preprocess the data in the dataframe, but leave the source data alone. "
   ]
  },
  {
   "cell_type": "code",
   "execution_count": 2,
   "id": "f677e71f",
   "metadata": {
    "scrolled": true
   },
   "outputs": [
    {
     "data": {
      "text/html": [
       "<div>\n",
       "<style scoped>\n",
       "    .dataframe tbody tr th:only-of-type {\n",
       "        vertical-align: middle;\n",
       "    }\n",
       "\n",
       "    .dataframe tbody tr th {\n",
       "        vertical-align: top;\n",
       "    }\n",
       "\n",
       "    .dataframe thead th {\n",
       "        text-align: right;\n",
       "    }\n",
       "</style>\n",
       "<table border=\"1\" class=\"dataframe\">\n",
       "  <thead>\n",
       "    <tr style=\"text-align: right;\">\n",
       "      <th></th>\n",
       "      <th>Year</th>\n",
       "      <th>Lg</th>\n",
       "      <th>Tm</th>\n",
       "      <th>W</th>\n",
       "      <th>L</th>\n",
       "      <th>T</th>\n",
       "      <th>Div. Finish</th>\n",
       "      <th>Playoffs</th>\n",
       "      <th>PF</th>\n",
       "      <th>PA</th>\n",
       "      <th>...</th>\n",
       "      <th>Yds.1</th>\n",
       "      <th>T/G</th>\n",
       "      <th>Pts±</th>\n",
       "      <th>Yds±</th>\n",
       "      <th>out of</th>\n",
       "      <th>MoV</th>\n",
       "      <th>SoS</th>\n",
       "      <th>SRS</th>\n",
       "      <th>OSRS</th>\n",
       "      <th>DSRS</th>\n",
       "    </tr>\n",
       "  </thead>\n",
       "  <tbody>\n",
       "    <tr>\n",
       "      <th>268</th>\n",
       "      <td>2021</td>\n",
       "      <td>NFL</td>\n",
       "      <td>Baltimore Ravens</td>\n",
       "      <td>8</td>\n",
       "      <td>9</td>\n",
       "      <td>0</td>\n",
       "      <td>4th of 4</td>\n",
       "      <td>-1</td>\n",
       "      <td>387</td>\n",
       "      <td>392</td>\n",
       "      <td>...</td>\n",
       "      <td>25</td>\n",
       "      <td>28</td>\n",
       "      <td>19</td>\n",
       "      <td>14</td>\n",
       "      <td>32</td>\n",
       "      <td>-0.3</td>\n",
       "      <td>0.0</td>\n",
       "      <td>-0.3</td>\n",
       "      <td>-0.3</td>\n",
       "      <td>0.0</td>\n",
       "    </tr>\n",
       "    <tr>\n",
       "      <th>331</th>\n",
       "      <td>2003</td>\n",
       "      <td>NFL</td>\n",
       "      <td>Cincinnati Bengals</td>\n",
       "      <td>8</td>\n",
       "      <td>8</td>\n",
       "      <td>0</td>\n",
       "      <td>2nd of 4</td>\n",
       "      <td>-1</td>\n",
       "      <td>346</td>\n",
       "      <td>384</td>\n",
       "      <td>...</td>\n",
       "      <td>28</td>\n",
       "      <td>10</td>\n",
       "      <td>21</td>\n",
       "      <td>21</td>\n",
       "      <td>32</td>\n",
       "      <td>-2.4</td>\n",
       "      <td>0.0</td>\n",
       "      <td>-2.4</td>\n",
       "      <td>1.1</td>\n",
       "      <td>-3.5</td>\n",
       "    </tr>\n",
       "    <tr>\n",
       "      <th>564</th>\n",
       "      <td>2010</td>\n",
       "      <td>NFL</td>\n",
       "      <td>San Francisco 49ers</td>\n",
       "      <td>6</td>\n",
       "      <td>10</td>\n",
       "      <td>0</td>\n",
       "      <td>3rd of 4</td>\n",
       "      <td>-1</td>\n",
       "      <td>305</td>\n",
       "      <td>346</td>\n",
       "      <td>...</td>\n",
       "      <td>13</td>\n",
       "      <td>15</td>\n",
       "      <td>20</td>\n",
       "      <td>21</td>\n",
       "      <td>32</td>\n",
       "      <td>-2.6</td>\n",
       "      <td>-3.3</td>\n",
       "      <td>-5.8</td>\n",
       "      <td>-4.7</td>\n",
       "      <td>-1.1</td>\n",
       "    </tr>\n",
       "    <tr>\n",
       "      <th>5</th>\n",
       "      <td>2021</td>\n",
       "      <td>NFL</td>\n",
       "      <td>Los Angeles Rams*</td>\n",
       "      <td>12</td>\n",
       "      <td>5</td>\n",
       "      <td>0</td>\n",
       "      <td>1st of 4</td>\n",
       "      <td>4</td>\n",
       "      <td>460</td>\n",
       "      <td>372</td>\n",
       "      <td>...</td>\n",
       "      <td>17</td>\n",
       "      <td>13</td>\n",
       "      <td>6</td>\n",
       "      <td>12</td>\n",
       "      <td>32</td>\n",
       "      <td>5.2</td>\n",
       "      <td>0.1</td>\n",
       "      <td>5.3</td>\n",
       "      <td>4.2</td>\n",
       "      <td>1.1</td>\n",
       "    </tr>\n",
       "    <tr>\n",
       "      <th>466</th>\n",
       "      <td>2007</td>\n",
       "      <td>NFL</td>\n",
       "      <td>St. Louis Rams</td>\n",
       "      <td>3</td>\n",
       "      <td>13</td>\n",
       "      <td>0</td>\n",
       "      <td>4th of 4</td>\n",
       "      <td>-1</td>\n",
       "      <td>263</td>\n",
       "      <td>438</td>\n",
       "      <td>...</td>\n",
       "      <td>21</td>\n",
       "      <td>27</td>\n",
       "      <td>32</td>\n",
       "      <td>25</td>\n",
       "      <td>32</td>\n",
       "      <td>-10.9</td>\n",
       "      <td>-2.0</td>\n",
       "      <td>-13.0</td>\n",
       "      <td>-6.5</td>\n",
       "      <td>-6.5</td>\n",
       "    </tr>\n",
       "    <tr>\n",
       "      <th>481</th>\n",
       "      <td>2009</td>\n",
       "      <td>NFL</td>\n",
       "      <td>Miami Dolphins</td>\n",
       "      <td>7</td>\n",
       "      <td>9</td>\n",
       "      <td>0</td>\n",
       "      <td>3rd of 4</td>\n",
       "      <td>-1</td>\n",
       "      <td>360</td>\n",
       "      <td>390</td>\n",
       "      <td>...</td>\n",
       "      <td>22</td>\n",
       "      <td>26</td>\n",
       "      <td>20</td>\n",
       "      <td>20</td>\n",
       "      <td>32</td>\n",
       "      <td>-1.9</td>\n",
       "      <td>3.6</td>\n",
       "      <td>1.7</td>\n",
       "      <td>2.9</td>\n",
       "      <td>-1.2</td>\n",
       "    </tr>\n",
       "    <tr>\n",
       "      <th>101</th>\n",
       "      <td>2014</td>\n",
       "      <td>NFL</td>\n",
       "      <td>Denver Broncos*</td>\n",
       "      <td>12</td>\n",
       "      <td>4</td>\n",
       "      <td>0</td>\n",
       "      <td>1st of 4</td>\n",
       "      <td>1</td>\n",
       "      <td>482</td>\n",
       "      <td>354</td>\n",
       "      <td>...</td>\n",
       "      <td>3</td>\n",
       "      <td>11</td>\n",
       "      <td>4</td>\n",
       "      <td>2</td>\n",
       "      <td>32</td>\n",
       "      <td>8.0</td>\n",
       "      <td>1.6</td>\n",
       "      <td>9.6</td>\n",
       "      <td>9.2</td>\n",
       "      <td>0.4</td>\n",
       "    </tr>\n",
       "    <tr>\n",
       "      <th>184</th>\n",
       "      <td>2013</td>\n",
       "      <td>NFL</td>\n",
       "      <td>Green Bay Packers*</td>\n",
       "      <td>8</td>\n",
       "      <td>7</td>\n",
       "      <td>1</td>\n",
       "      <td>1st of 4</td>\n",
       "      <td>0</td>\n",
       "      <td>417</td>\n",
       "      <td>428</td>\n",
       "      <td>...</td>\n",
       "      <td>25</td>\n",
       "      <td>19</td>\n",
       "      <td>16</td>\n",
       "      <td>8</td>\n",
       "      <td>32</td>\n",
       "      <td>-0.7</td>\n",
       "      <td>-2.4</td>\n",
       "      <td>-3.1</td>\n",
       "      <td>0.5</td>\n",
       "      <td>-3.6</td>\n",
       "    </tr>\n",
       "    <tr>\n",
       "      <th>231</th>\n",
       "      <td>2004</td>\n",
       "      <td>NFL</td>\n",
       "      <td>Seattle Seahawks*</td>\n",
       "      <td>9</td>\n",
       "      <td>7</td>\n",
       "      <td>0</td>\n",
       "      <td>1st of 4</td>\n",
       "      <td>0</td>\n",
       "      <td>371</td>\n",
       "      <td>373</td>\n",
       "      <td>...</td>\n",
       "      <td>26</td>\n",
       "      <td>9</td>\n",
       "      <td>16</td>\n",
       "      <td>15</td>\n",
       "      <td>32</td>\n",
       "      <td>-0.1</td>\n",
       "      <td>-2.8</td>\n",
       "      <td>-2.9</td>\n",
       "      <td>0.4</td>\n",
       "      <td>-3.3</td>\n",
       "    </tr>\n",
       "    <tr>\n",
       "      <th>484</th>\n",
       "      <td>2005</td>\n",
       "      <td>NFL</td>\n",
       "      <td>Miami Dolphins</td>\n",
       "      <td>9</td>\n",
       "      <td>7</td>\n",
       "      <td>0</td>\n",
       "      <td>2nd of 4</td>\n",
       "      <td>-1</td>\n",
       "      <td>318</td>\n",
       "      <td>317</td>\n",
       "      <td>...</td>\n",
       "      <td>18</td>\n",
       "      <td>14</td>\n",
       "      <td>17</td>\n",
       "      <td>18</td>\n",
       "      <td>32</td>\n",
       "      <td>0.1</td>\n",
       "      <td>-0.8</td>\n",
       "      <td>-0.8</td>\n",
       "      <td>-1.1</td>\n",
       "      <td>0.3</td>\n",
       "    </tr>\n",
       "  </tbody>\n",
       "</table>\n",
       "<p>10 rows × 29 columns</p>\n",
       "</div>"
      ],
      "text/plain": [
       "     Year   Lg                   Tm   W   L  T Div. Finish  Playoffs   PF  \\\n",
       "268  2021  NFL     Baltimore Ravens   8   9  0    4th of 4        -1  387   \n",
       "331  2003  NFL   Cincinnati Bengals   8   8  0    2nd of 4        -1  346   \n",
       "564  2010  NFL  San Francisco 49ers   6  10  0    3rd of 4        -1  305   \n",
       "5    2021  NFL    Los Angeles Rams*  12   5  0    1st of 4         4  460   \n",
       "466  2007  NFL       St. Louis Rams   3  13  0    4th of 4        -1  263   \n",
       "481  2009  NFL       Miami Dolphins   7   9  0    3rd of 4        -1  360   \n",
       "101  2014  NFL      Denver Broncos*  12   4  0    1st of 4         1  482   \n",
       "184  2013  NFL   Green Bay Packers*   8   7  1    1st of 4         0  417   \n",
       "231  2004  NFL    Seattle Seahawks*   9   7  0    1st of 4         0  371   \n",
       "484  2005  NFL       Miami Dolphins   9   7  0    2nd of 4        -1  318   \n",
       "\n",
       "      PA  ...  Yds.1 T/G Pts± Yds± out of   MoV  SoS   SRS  OSRS  DSRS  \n",
       "268  392  ...     25  28   19   14     32  -0.3  0.0  -0.3  -0.3   0.0  \n",
       "331  384  ...     28  10   21   21     32  -2.4  0.0  -2.4   1.1  -3.5  \n",
       "564  346  ...     13  15   20   21     32  -2.6 -3.3  -5.8  -4.7  -1.1  \n",
       "5    372  ...     17  13    6   12     32   5.2  0.1   5.3   4.2   1.1  \n",
       "466  438  ...     21  27   32   25     32 -10.9 -2.0 -13.0  -6.5  -6.5  \n",
       "481  390  ...     22  26   20   20     32  -1.9  3.6   1.7   2.9  -1.2  \n",
       "101  354  ...      3  11    4    2     32   8.0  1.6   9.6   9.2   0.4  \n",
       "184  428  ...     25  19   16    8     32  -0.7 -2.4  -3.1   0.5  -3.6  \n",
       "231  373  ...     26   9   16   15     32  -0.1 -2.8  -2.9   0.4  -3.3  \n",
       "484  317  ...     18  14   17   18     32   0.1 -0.8  -0.8  -1.1   0.3  \n",
       "\n",
       "[10 rows x 29 columns]"
      ]
     },
     "execution_count": 2,
     "metadata": {},
     "output_type": "execute_result"
    }
   ],
   "source": [
    "nfl_df.sample(10)"
   ]
  },
  {
   "cell_type": "markdown",
   "id": "5b1b0d92",
   "metadata": {},
   "source": [
    "#### Data preprocessing \n",
    "\n",
    "The first step is to drop fields that just aren't relevant to this analysis. First I'm going to look at wins, later I'll look at playoff appearances.\n",
    "\n",
    "The difference between using all of the numerical fields, and dropping most of them is just an 0.5 rsq difference, and a much more easy to use model."
   ]
  },
  {
   "cell_type": "code",
   "execution_count": 3,
   "id": "390916c1",
   "metadata": {
    "scrolled": true
   },
   "outputs": [
    {
     "data": {
      "text/html": [
       "<div>\n",
       "<style scoped>\n",
       "    .dataframe tbody tr th:only-of-type {\n",
       "        vertical-align: middle;\n",
       "    }\n",
       "\n",
       "    .dataframe tbody tr th {\n",
       "        vertical-align: top;\n",
       "    }\n",
       "\n",
       "    .dataframe thead th {\n",
       "        text-align: right;\n",
       "    }\n",
       "</style>\n",
       "<table border=\"1\" class=\"dataframe\">\n",
       "  <thead>\n",
       "    <tr style=\"text-align: right;\">\n",
       "      <th></th>\n",
       "      <th>W</th>\n",
       "      <th>PF</th>\n",
       "      <th>PA</th>\n",
       "      <th>PD</th>\n",
       "      <th>Pts</th>\n",
       "      <th>Yds</th>\n",
       "      <th>Pts.1</th>\n",
       "      <th>Yds.1</th>\n",
       "      <th>T/G</th>\n",
       "      <th>Pts±</th>\n",
       "      <th>Yds±</th>\n",
       "      <th>MoV</th>\n",
       "      <th>SoS</th>\n",
       "      <th>SRS</th>\n",
       "      <th>OSRS</th>\n",
       "      <th>DSRS</th>\n",
       "    </tr>\n",
       "  </thead>\n",
       "  <tbody>\n",
       "    <tr>\n",
       "      <th>0</th>\n",
       "      <td>10</td>\n",
       "      <td>398</td>\n",
       "      <td>344</td>\n",
       "      <td>54</td>\n",
       "      <td>10</td>\n",
       "      <td>16</td>\n",
       "      <td>12</td>\n",
       "      <td>17</td>\n",
       "      <td>8</td>\n",
       "      <td>11</td>\n",
       "      <td>15</td>\n",
       "      <td>3.4</td>\n",
       "      <td>-0.5</td>\n",
       "      <td>2.9</td>\n",
       "      <td>1.9</td>\n",
       "      <td>1.0</td>\n",
       "    </tr>\n",
       "    <tr>\n",
       "      <th>1</th>\n",
       "      <td>12</td>\n",
       "      <td>355</td>\n",
       "      <td>296</td>\n",
       "      <td>59</td>\n",
       "      <td>19</td>\n",
       "      <td>16</td>\n",
       "      <td>4</td>\n",
       "      <td>1</td>\n",
       "      <td>19</td>\n",
       "      <td>10</td>\n",
       "      <td>3</td>\n",
       "      <td>3.7</td>\n",
       "      <td>2.1</td>\n",
       "      <td>5.8</td>\n",
       "      <td>0.3</td>\n",
       "      <td>5.5</td>\n",
       "    </tr>\n",
       "    <tr>\n",
       "      <th>2</th>\n",
       "      <td>10</td>\n",
       "      <td>388</td>\n",
       "      <td>240</td>\n",
       "      <td>148</td>\n",
       "      <td>10</td>\n",
       "      <td>9</td>\n",
       "      <td>2</td>\n",
       "      <td>5</td>\n",
       "      <td>4</td>\n",
       "      <td>2</td>\n",
       "      <td>7</td>\n",
       "      <td>9.3</td>\n",
       "      <td>1.7</td>\n",
       "      <td>10.9</td>\n",
       "      <td>3.1</td>\n",
       "      <td>7.9</td>\n",
       "    </tr>\n",
       "    <tr>\n",
       "      <th>3</th>\n",
       "      <td>12</td>\n",
       "      <td>427</td>\n",
       "      <td>360</td>\n",
       "      <td>67</td>\n",
       "      <td>2</td>\n",
       "      <td>3</td>\n",
       "      <td>23</td>\n",
       "      <td>21</td>\n",
       "      <td>6</td>\n",
       "      <td>9</td>\n",
       "      <td>7</td>\n",
       "      <td>4.2</td>\n",
       "      <td>1.7</td>\n",
       "      <td>5.9</td>\n",
       "      <td>6.9</td>\n",
       "      <td>-1.1</td>\n",
       "    </tr>\n",
       "    <tr>\n",
       "      <th>4</th>\n",
       "      <td>12</td>\n",
       "      <td>451</td>\n",
       "      <td>308</td>\n",
       "      <td>143</td>\n",
       "      <td>5</td>\n",
       "      <td>6</td>\n",
       "      <td>7</td>\n",
       "      <td>17</td>\n",
       "      <td>7</td>\n",
       "      <td>4</td>\n",
       "      <td>10</td>\n",
       "      <td>8.9</td>\n",
       "      <td>0.2</td>\n",
       "      <td>9.1</td>\n",
       "      <td>6.2</td>\n",
       "      <td>2.9</td>\n",
       "    </tr>\n",
       "    <tr>\n",
       "      <th>...</th>\n",
       "      <td>...</td>\n",
       "      <td>...</td>\n",
       "      <td>...</td>\n",
       "      <td>...</td>\n",
       "      <td>...</td>\n",
       "      <td>...</td>\n",
       "      <td>...</td>\n",
       "      <td>...</td>\n",
       "      <td>...</td>\n",
       "      <td>...</td>\n",
       "      <td>...</td>\n",
       "      <td>...</td>\n",
       "      <td>...</td>\n",
       "      <td>...</td>\n",
       "      <td>...</td>\n",
       "      <td>...</td>\n",
       "    </tr>\n",
       "    <tr>\n",
       "      <th>615</th>\n",
       "      <td>8</td>\n",
       "      <td>265</td>\n",
       "      <td>296</td>\n",
       "      <td>-31</td>\n",
       "      <td>28</td>\n",
       "      <td>19</td>\n",
       "      <td>6</td>\n",
       "      <td>4</td>\n",
       "      <td>17</td>\n",
       "      <td>22</td>\n",
       "      <td>12</td>\n",
       "      <td>-1.9</td>\n",
       "      <td>0.2</td>\n",
       "      <td>-1.8</td>\n",
       "      <td>-5.8</td>\n",
       "      <td>4.1</td>\n",
       "    </tr>\n",
       "    <tr>\n",
       "      <th>616</th>\n",
       "      <td>5</td>\n",
       "      <td>307</td>\n",
       "      <td>376</td>\n",
       "      <td>-69</td>\n",
       "      <td>20</td>\n",
       "      <td>13</td>\n",
       "      <td>27</td>\n",
       "      <td>31</td>\n",
       "      <td>23</td>\n",
       "      <td>24</td>\n",
       "      <td>23</td>\n",
       "      <td>-4.3</td>\n",
       "      <td>0.3</td>\n",
       "      <td>-4.0</td>\n",
       "      <td>-2.1</td>\n",
       "      <td>-2.0</td>\n",
       "    </tr>\n",
       "    <tr>\n",
       "      <th>617</th>\n",
       "      <td>6</td>\n",
       "      <td>240</td>\n",
       "      <td>265</td>\n",
       "      <td>-25</td>\n",
       "      <td>31</td>\n",
       "      <td>30</td>\n",
       "      <td>5</td>\n",
       "      <td>3</td>\n",
       "      <td>20</td>\n",
       "      <td>19</td>\n",
       "      <td>14</td>\n",
       "      <td>-1.6</td>\n",
       "      <td>-1.8</td>\n",
       "      <td>-3.4</td>\n",
       "      <td>-7.4</td>\n",
       "      <td>4.0</td>\n",
       "    </tr>\n",
       "    <tr>\n",
       "      <th>618</th>\n",
       "      <td>5</td>\n",
       "      <td>287</td>\n",
       "      <td>372</td>\n",
       "      <td>-85</td>\n",
       "      <td>22</td>\n",
       "      <td>23</td>\n",
       "      <td>24</td>\n",
       "      <td>25</td>\n",
       "      <td>10</td>\n",
       "      <td>25</td>\n",
       "      <td>27</td>\n",
       "      <td>-5.3</td>\n",
       "      <td>-0.4</td>\n",
       "      <td>-5.7</td>\n",
       "      <td>-1.9</td>\n",
       "      <td>-3.8</td>\n",
       "    </tr>\n",
       "    <tr>\n",
       "      <th>619</th>\n",
       "      <td>7</td>\n",
       "      <td>307</td>\n",
       "      <td>365</td>\n",
       "      <td>-58</td>\n",
       "      <td>25</td>\n",
       "      <td>20</td>\n",
       "      <td>21</td>\n",
       "      <td>5</td>\n",
       "      <td>29</td>\n",
       "      <td>26</td>\n",
       "      <td>14</td>\n",
       "      <td>-3.6</td>\n",
       "      <td>-0.8</td>\n",
       "      <td>-4.5</td>\n",
       "      <td>-2.2</td>\n",
       "      <td>-2.2</td>\n",
       "    </tr>\n",
       "  </tbody>\n",
       "</table>\n",
       "<p>620 rows × 16 columns</p>\n",
       "</div>"
      ],
      "text/plain": [
       "      W   PF   PA   PD  Pts  Yds  Pts.1  Yds.1  T/G  Pts±  Yds±  MoV  SoS  \\\n",
       "0    10  398  344   54   10   16     12     17    8    11    15  3.4 -0.5   \n",
       "1    12  355  296   59   19   16      4      1   19    10     3  3.7  2.1   \n",
       "2    10  388  240  148   10    9      2      5    4     2     7  9.3  1.7   \n",
       "3    12  427  360   67    2    3     23     21    6     9     7  4.2  1.7   \n",
       "4    12  451  308  143    5    6      7     17    7     4    10  8.9  0.2   \n",
       "..   ..  ...  ...  ...  ...  ...    ...    ...  ...   ...   ...  ...  ...   \n",
       "615   8  265  296  -31   28   19      6      4   17    22    12 -1.9  0.2   \n",
       "616   5  307  376  -69   20   13     27     31   23    24    23 -4.3  0.3   \n",
       "617   6  240  265  -25   31   30      5      3   20    19    14 -1.6 -1.8   \n",
       "618   5  287  372  -85   22   23     24     25   10    25    27 -5.3 -0.4   \n",
       "619   7  307  365  -58   25   20     21      5   29    26    14 -3.6 -0.8   \n",
       "\n",
       "      SRS  OSRS  DSRS  \n",
       "0     2.9   1.9   1.0  \n",
       "1     5.8   0.3   5.5  \n",
       "2    10.9   3.1   7.9  \n",
       "3     5.9   6.9  -1.1  \n",
       "4     9.1   6.2   2.9  \n",
       "..    ...   ...   ...  \n",
       "615  -1.8  -5.8   4.1  \n",
       "616  -4.0  -2.1  -2.0  \n",
       "617  -3.4  -7.4   4.0  \n",
       "618  -5.7  -1.9  -3.8  \n",
       "619  -4.5  -2.2  -2.2  \n",
       "\n",
       "[620 rows x 16 columns]"
      ]
     },
     "execution_count": 3,
     "metadata": {},
     "output_type": "execute_result"
    }
   ],
   "source": [
    "labels_to_drop_wins = [\"Year\", \"Lg\", \"Tm\", \"Div. Finish\", \"Coaches\", \"AV\",\n",
    "                       \"Passer\", \"Rusher\", \"Receiver\", \"out of\",\n",
    "                       \"L\", \"T\", \"Playoffs\"]\n",
    "\n",
    "wins_df = nfl_df.drop(labels=labels_to_drop_wins, axis=1)\n",
    "\n",
    "wins_df"
   ]
  },
  {
   "cell_type": "markdown",
   "id": "b7e444bd",
   "metadata": {},
   "source": [
    "#### Assign the data to x and y\n",
    "\n",
    "I am going with an SVR here because they're a little more reliable than Linear Regression models. In this case though, there is very little difference in terms of accuracy."
   ]
  },
  {
   "cell_type": "code",
   "execution_count": 4,
   "id": "f6d0d862",
   "metadata": {},
   "outputs": [],
   "source": [
    "x = wins_df.iloc[:, 1:].values\n",
    "y = wins_df.iloc[:, 0].values"
   ]
  },
  {
   "cell_type": "markdown",
   "id": "53e65c70",
   "metadata": {},
   "source": [
    "#### Split the data and train the model\n",
    "\n",
    "I am throwing all sorts of stats into this model and using a Random Forest. The rsq does not drop a whole lot compared to a simple Multiple Linear Regression model, but its results provide a lot more confidence and insight. It also differs a little bit with respect to the Caldwell years. I think it's likely a little more accurate even if the rsq drops a little bit."
   ]
  },
  {
   "cell_type": "code",
   "execution_count": 5,
   "id": "9cce24da",
   "metadata": {},
   "outputs": [],
   "source": [
    "from sklearn.model_selection import train_test_split\n",
    "x_train, x_test, y_train, y_test = train_test_split(x, y, test_size = 0.2, random_state = 42)"
   ]
  },
  {
   "cell_type": "code",
   "execution_count": 6,
   "id": "6de18531",
   "metadata": {},
   "outputs": [
    {
     "data": {
      "text/plain": [
       "RandomForestRegressor(n_estimators=10, random_state=0)"
      ]
     },
     "execution_count": 6,
     "metadata": {},
     "output_type": "execute_result"
    }
   ],
   "source": [
    "from sklearn.ensemble import RandomForestRegressor\n",
    "\n",
    "regressor = RandomForestRegressor(n_estimators = 10, random_state = 0)\n",
    "\n",
    "regressor.fit(x_train, y_train)"
   ]
  },
  {
   "cell_type": "markdown",
   "id": "63649266",
   "metadata": {},
   "source": [
    "#### Predicting the test results"
   ]
  },
  {
   "cell_type": "code",
   "execution_count": 7,
   "id": "11afd32a",
   "metadata": {},
   "outputs": [
    {
     "name": "stdout",
     "output_type": "stream",
     "text": [
      "[12.  4. 12.  6.  7.  6.  7.  9.  8.  4.  6. 10. 10.  9. 12. 10.  8.  7.\n",
      "  7.  6.  8. 11.  4. 12.  9. 10.  7.  5. 10. 10. 13.  8.  9. 12. 11.  3.\n",
      " 10.  7. 14.  8.  9.  4. 10.  5.  3. 12. 10.  5.  6. 11. 10.  4.  5.  8.\n",
      "  5. 12.  4.  7.  4.  4.  9.  4.  6. 12.  7.  8. 10. 12. 12.  7. 10.  4.\n",
      "  9.  7. 12. 11. 10.  7. 12.  7. 12. 12.  4. 13.  9.  7.  3. 12.  5. 10.\n",
      " 12.  9.  4.  5.  3.  3. 11. 11. 10.  9.  3.  8.  7. 11.  6. 13.  3.  8.\n",
      "  8.  7.  3.  8. 12.  5.  6. 12.  5.  7.  5. 12. 11. 10. 12.  9.]\n",
      "[13  4 13  7 10  7  8  9  7  5  6  9 11  8 10 12  7  8  8  8  9  9  5 12\n",
      "  9  9  8  4  9  9 13 10  6 13 11  3 10  8 14  8  7  5 10  4  0 12 11  4\n",
      "  6 14 10  2  4 10  5 13  5 10  5  3  9  7  5 10  8  7 10 10 13  7  9  6\n",
      "  7  6  9  8 10  5 13  8 12 11  4 11  9  9  4 11  9  8 13  7  2  5  2  2\n",
      "  9 12 10  8  2  9  5 12  5 12  7  8  7  5  2  8 11  4  8 10  4  6  7 11\n",
      " 13 11 12 10]\n"
     ]
    }
   ],
   "source": [
    "y_pred = regressor.predict(x_test)\n",
    "np.set_printoptions(precision=0)\n",
    "print(y_pred)\n",
    "print(y_test)"
   ]
  },
  {
   "cell_type": "markdown",
   "id": "f71c74df",
   "metadata": {},
   "source": [
    "#### Determine accuracy of Linear Regression Wins model"
   ]
  },
  {
   "cell_type": "code",
   "execution_count": 8,
   "id": "30379232",
   "metadata": {},
   "outputs": [
    {
     "data": {
      "text/plain": [
       "0.7787461274302265"
      ]
     },
     "execution_count": 8,
     "metadata": {},
     "output_type": "execute_result"
    }
   ],
   "source": [
    "from sklearn.metrics import r2_score\n",
    "r2_score(y_test, y_pred)"
   ]
  },
  {
   "cell_type": "markdown",
   "id": "beaebcbc",
   "metadata": {},
   "source": [
    "#### Analysis of Lions' performance in Wins column since Caldwell"
   ]
  },
  {
   "cell_type": "code",
   "execution_count": 9,
   "id": "b480804d",
   "metadata": {},
   "outputs": [],
   "source": [
    "caldwell_2014 = [[321,282,39,22,19,3,2,6,13,5,2.4,-0.4,2.1,-3.2,5.2]]\n",
    "caldwell_2015 = [[358,400,-42,18,20,23,18,22,18,17,-2.6,2.4,-0.2,1.0,-1.3]]\n",
    "caldwell_2016 = [[346,358,-12,20,21,13,18,20,21,24,-0.8,-0.6,-1.4,-1.3,-0.1]]\n",
    "caldwell_2017 = [[410,376,34,7,13,21,27,5,13,19,2.1,0.6,2.7,5.2,-2.5]]\n",
    "patricia_2018 = [[324,360,-36,25,24,16,10,23,21,21,-2.3,-0.8,-3.0,-3.3,0.3]]\n",
    "patricia_2019 = [[341,423,-82,18,17,26,31,24,24,28,-5.1,-0.1,-5.2,-1.2,-4.0]]\n",
    "patricia_2020 = [[377,519,-142,20,20,32,32,27,30,30,-8.9,1.2,-7.7,-1.0,-6.7]]\n",
    "mcdc_2021 = [[325,467,-142,25,22,31,29,22,27,28,-8.4,0.6,-7.8,-3.5,-4.3]]\n",
    "\n",
    "caldwell_years_pred = [regressor.predict(caldwell_2014), regressor.predict(caldwell_2015), \n",
    "                       regressor.predict(caldwell_2016), regressor.predict(caldwell_2017)]\n",
    "\n",
    "caldwell_years_pred = np.array(caldwell_years_pred)\n",
    "\n",
    "caldwell_years_observed = [11, 7, 9, 9] \n",
    "\n",
    "caldwell_years_active = [2014, 2015, 2016, 2017]\n",
    "\n",
    "patricia_years_pred = [regressor.predict(patricia_2018), regressor.predict(patricia_2019), \n",
    "                       regressor.predict(patricia_2020)]\n",
    "\n",
    "patricia_years_pred = np.array(patricia_years_pred)\n",
    "\n",
    "patricia_years_observed = [6, 3, 5]\n",
    "\n",
    "patricia_years_active = [2018, 2019, 2020]\n",
    "\n",
    "lions_pred = np.concatenate([caldwell_years_pred,patricia_years_pred])\n",
    "\n",
    "mcdc_pred = np.array(regressor.predict(mcdc_2021))\n",
    "\n",
    "lions_pred = np.append(lions_pred, mcdc_pred)\n",
    "\n",
    "lions_observed = caldwell_years_observed + patricia_years_observed\n",
    "lions_observed.append(3)\n",
    "\n",
    "lions_active = caldwell_years_active + patricia_years_active\n",
    "lions_active.append(2021)"
   ]
  },
  {
   "cell_type": "code",
   "execution_count": 10,
   "id": "721e26b4",
   "metadata": {
    "scrolled": false
   },
   "outputs": [],
   "source": [
    "def display_plots(dataset_years, dataset_observed,\n",
    "                 dataset_pred, title):\n",
    "    \n",
    "    plt.scatter(dataset_years, dataset_observed, color=\"red\")\n",
    "    plt.plot(dataset_years, dataset_pred, color=\"blue\")\n",
    "    plt.title(title)\n",
    "    plt.xlabel(\"Years\")\n",
    "    plt.ylabel(\"Wins\")\n",
    "    plt.show()    "
   ]
  },
  {
   "cell_type": "markdown",
   "id": "047a5ce9",
   "metadata": {},
   "source": [
    "### Analysis of the Caldwell Years\n",
    "\n",
    "Even though Wayne Fontes is the only Lions coach with a playoff victory in the modern NFL, Caldwell has the best winning percentage. When he took over the Lions it was shortly after they had seen the playoffs for the first time in a long time, but they lost the wild card round. \n",
    "\n",
    "As a casual fan it seemed like the Lions were on an upward trend. They had great players on both sides of the ball, but holes as well. Caldwell was known as a field general who was able to get his team to play at a higher than expected level. The Random Forset Ensemble model I ran confirms that even in his worst years he got an extra win out of his team. "
   ]
  },
  {
   "cell_type": "code",
   "execution_count": 11,
   "id": "20d46443",
   "metadata": {
    "scrolled": true
   },
   "outputs": [
    {
     "data": {
      "image/png": "[encoded data removed]",
      "text/plain": [
       "<Figure size 432x288 with 1 Axes>"
      ]
     },
     "metadata": {
      "needs_background": "light"
     },
     "output_type": "display_data"
    }
   ],
   "source": [
    "display_plots(caldwell_years_active, caldwell_years_observed,\n",
    "             caldwell_years_pred, \"Caldwell's Performance\")"
   ]
  },
  {
   "cell_type": "markdown",
   "id": "3868fca4",
   "metadata": {},
   "source": [
    "### Analysis of the Matt Patricia Years\n",
    "\n",
    "Unfortunately for Patricia, he was brought in with expectations of winning a Superbowl. The Lions were finally correcting the ship, and needed someone who could get them \"over the hump\" of the wildcard round. I was not really sure I agreed with his statement that the Lions needed a lot of work back in 2017, and the previous model seems to agree with me. Regardless, Matt Patricia sought to bring in the famous Patriots' system. His first year the Lions regressed 3 games in the season, and it only got worse until he was fired halfway through 2020. "
   ]
  },
  {
   "cell_type": "code",
   "execution_count": 12,
   "id": "258cf0f3",
   "metadata": {},
   "outputs": [
    {
     "data": {
      "image/png": "[encoded data removed]",
      "text/plain": [
       "<Figure size 432x288 with 1 Axes>"
      ]
     },
     "metadata": {
      "needs_background": "light"
     },
     "output_type": "display_data"
    }
   ],
   "source": [
    "display_plots(patricia_years_active, patricia_years_observed,\n",
    "             patricia_years_pred, \"Patricia's Performance\")"
   ]
  },
  {
   "cell_type": "markdown",
   "id": "24b8809f",
   "metadata": {},
   "source": [
    "### Putting it all together and adding MCDC's first year\n",
    "\n",
    "The graph below shows the trajectory the Lions have been on since 2014. It's been a little rocky, but when Caldwell was let go the Lions were on an upward swing for two seasons in a row. Rather than maintaining the momentum, the entire system was blown up and the organization still hasn't recovered. In fact, MCDC's abysmal 3-win season is only 1-win below what would be expected by this algorithm, and it's probably well within the margin of error. "
   ]
  },
  {
   "cell_type": "code",
   "execution_count": 13,
   "id": "d1a4e1ef",
   "metadata": {},
   "outputs": [
    {
     "data": {
      "image/png": "[encoded data removed]",
      "text/plain": [
       "<Figure size 432x288 with 1 Axes>"
      ]
     },
     "metadata": {
      "needs_background": "light"
     },
     "output_type": "display_data"
    }
   ],
   "source": [
    "display_plots(lions_active, lions_observed,\n",
    "             lions_pred, \"2014-2021 Performance\")"
   ]
  },
  {
   "cell_type": "markdown",
   "id": "95b65b6f",
   "metadata": {},
   "source": [
    "## Conclusion on Predicted vs Observed Wins\n",
    "\n",
    "The only Lions coach in recent years who has outperformed against peers in similar situations is Jim Caldwell. Despite being on an upward swing in expected outcomes Matt Patricia nuked the roster. It was a bad move that has forced the Lions on a downward trajectory ever since. It remains to be seen if MCDC is the guy who can fix this roster, or if the franchise can even survive Patricia's blunder."
   ]
  },
  {
   "cell_type": "markdown",
   "id": "417e9323",
   "metadata": {},
   "source": [
    "## Playoff expectations under Caldwell and Patricia against League Values\n",
    "I am going with K-Nearest Neighbors Classification for this prediction because it's a popular multi-class classification algorithm, and I am treating the status of how deep each team makes it into the playoffs as a class. \n",
    "\n",
    "The values of each class are as follows:\n",
    "\n",
    "- \"-1\" Didn't make playoffs\n",
    "- \"0\" Lost WC\n",
    "- \"1\" Lost Division\n",
    "- \"2\" Lost Conference Championship\n",
    "- \"3\" Lost SB\n",
    "- \"4\" Won SB"
   ]
  },
  {
   "cell_type": "markdown",
   "id": "aa4e362e",
   "metadata": {},
   "source": [
    "#### Alter the dataset appropriately for Playoff classification"
   ]
  },
  {
   "cell_type": "code",
   "execution_count": 14,
   "id": "2d9400de",
   "metadata": {
    "scrolled": true
   },
   "outputs": [
    {
     "data": {
      "text/html": [
       "<div>\n",
       "<style scoped>\n",
       "    .dataframe tbody tr th:only-of-type {\n",
       "        vertical-align: middle;\n",
       "    }\n",
       "\n",
       "    .dataframe tbody tr th {\n",
       "        vertical-align: top;\n",
       "    }\n",
       "\n",
       "    .dataframe thead th {\n",
       "        text-align: right;\n",
       "    }\n",
       "</style>\n",
       "<table border=\"1\" class=\"dataframe\">\n",
       "  <thead>\n",
       "    <tr style=\"text-align: right;\">\n",
       "      <th></th>\n",
       "      <th>Playoffs</th>\n",
       "      <th>PF</th>\n",
       "      <th>PA</th>\n",
       "      <th>PD</th>\n",
       "      <th>Pts</th>\n",
       "      <th>Yds</th>\n",
       "      <th>Pts.1</th>\n",
       "      <th>Yds.1</th>\n",
       "      <th>T/G</th>\n",
       "      <th>Pts±</th>\n",
       "      <th>Yds±</th>\n",
       "      <th>MoV</th>\n",
       "      <th>SoS</th>\n",
       "      <th>SRS</th>\n",
       "      <th>OSRS</th>\n",
       "      <th>DSRS</th>\n",
       "    </tr>\n",
       "  </thead>\n",
       "  <tbody>\n",
       "    <tr>\n",
       "      <th>0</th>\n",
       "      <td>4</td>\n",
       "      <td>398</td>\n",
       "      <td>344</td>\n",
       "      <td>54</td>\n",
       "      <td>10</td>\n",
       "      <td>16</td>\n",
       "      <td>12</td>\n",
       "      <td>17</td>\n",
       "      <td>8</td>\n",
       "      <td>11</td>\n",
       "      <td>15</td>\n",
       "      <td>3.4</td>\n",
       "      <td>-0.5</td>\n",
       "      <td>2.9</td>\n",
       "      <td>1.9</td>\n",
       "      <td>1.0</td>\n",
       "    </tr>\n",
       "    <tr>\n",
       "      <th>1</th>\n",
       "      <td>4</td>\n",
       "      <td>355</td>\n",
       "      <td>296</td>\n",
       "      <td>59</td>\n",
       "      <td>19</td>\n",
       "      <td>16</td>\n",
       "      <td>4</td>\n",
       "      <td>1</td>\n",
       "      <td>19</td>\n",
       "      <td>10</td>\n",
       "      <td>3</td>\n",
       "      <td>3.7</td>\n",
       "      <td>2.1</td>\n",
       "      <td>5.8</td>\n",
       "      <td>0.3</td>\n",
       "      <td>5.5</td>\n",
       "    </tr>\n",
       "    <tr>\n",
       "      <th>2</th>\n",
       "      <td>4</td>\n",
       "      <td>388</td>\n",
       "      <td>240</td>\n",
       "      <td>148</td>\n",
       "      <td>10</td>\n",
       "      <td>9</td>\n",
       "      <td>2</td>\n",
       "      <td>5</td>\n",
       "      <td>4</td>\n",
       "      <td>2</td>\n",
       "      <td>7</td>\n",
       "      <td>9.3</td>\n",
       "      <td>1.7</td>\n",
       "      <td>10.9</td>\n",
       "      <td>3.1</td>\n",
       "      <td>7.9</td>\n",
       "    </tr>\n",
       "    <tr>\n",
       "      <th>3</th>\n",
       "      <td>4</td>\n",
       "      <td>427</td>\n",
       "      <td>360</td>\n",
       "      <td>67</td>\n",
       "      <td>2</td>\n",
       "      <td>3</td>\n",
       "      <td>23</td>\n",
       "      <td>21</td>\n",
       "      <td>6</td>\n",
       "      <td>9</td>\n",
       "      <td>7</td>\n",
       "      <td>4.2</td>\n",
       "      <td>1.7</td>\n",
       "      <td>5.9</td>\n",
       "      <td>6.9</td>\n",
       "      <td>-1.1</td>\n",
       "    </tr>\n",
       "    <tr>\n",
       "      <th>4</th>\n",
       "      <td>4</td>\n",
       "      <td>451</td>\n",
       "      <td>308</td>\n",
       "      <td>143</td>\n",
       "      <td>5</td>\n",
       "      <td>6</td>\n",
       "      <td>7</td>\n",
       "      <td>17</td>\n",
       "      <td>7</td>\n",
       "      <td>4</td>\n",
       "      <td>10</td>\n",
       "      <td>8.9</td>\n",
       "      <td>0.2</td>\n",
       "      <td>9.1</td>\n",
       "      <td>6.2</td>\n",
       "      <td>2.9</td>\n",
       "    </tr>\n",
       "    <tr>\n",
       "      <th>...</th>\n",
       "      <td>...</td>\n",
       "      <td>...</td>\n",
       "      <td>...</td>\n",
       "      <td>...</td>\n",
       "      <td>...</td>\n",
       "      <td>...</td>\n",
       "      <td>...</td>\n",
       "      <td>...</td>\n",
       "      <td>...</td>\n",
       "      <td>...</td>\n",
       "      <td>...</td>\n",
       "      <td>...</td>\n",
       "      <td>...</td>\n",
       "      <td>...</td>\n",
       "      <td>...</td>\n",
       "      <td>...</td>\n",
       "    </tr>\n",
       "    <tr>\n",
       "      <th>615</th>\n",
       "      <td>-1</td>\n",
       "      <td>265</td>\n",
       "      <td>296</td>\n",
       "      <td>-31</td>\n",
       "      <td>28</td>\n",
       "      <td>19</td>\n",
       "      <td>6</td>\n",
       "      <td>4</td>\n",
       "      <td>17</td>\n",
       "      <td>22</td>\n",
       "      <td>12</td>\n",
       "      <td>-1.9</td>\n",
       "      <td>0.2</td>\n",
       "      <td>-1.8</td>\n",
       "      <td>-5.8</td>\n",
       "      <td>4.1</td>\n",
       "    </tr>\n",
       "    <tr>\n",
       "      <th>616</th>\n",
       "      <td>-1</td>\n",
       "      <td>307</td>\n",
       "      <td>376</td>\n",
       "      <td>-69</td>\n",
       "      <td>20</td>\n",
       "      <td>13</td>\n",
       "      <td>27</td>\n",
       "      <td>31</td>\n",
       "      <td>23</td>\n",
       "      <td>24</td>\n",
       "      <td>23</td>\n",
       "      <td>-4.3</td>\n",
       "      <td>0.3</td>\n",
       "      <td>-4.0</td>\n",
       "      <td>-2.1</td>\n",
       "      <td>-2.0</td>\n",
       "    </tr>\n",
       "    <tr>\n",
       "      <th>617</th>\n",
       "      <td>-1</td>\n",
       "      <td>240</td>\n",
       "      <td>265</td>\n",
       "      <td>-25</td>\n",
       "      <td>31</td>\n",
       "      <td>30</td>\n",
       "      <td>5</td>\n",
       "      <td>3</td>\n",
       "      <td>20</td>\n",
       "      <td>19</td>\n",
       "      <td>14</td>\n",
       "      <td>-1.6</td>\n",
       "      <td>-1.8</td>\n",
       "      <td>-3.4</td>\n",
       "      <td>-7.4</td>\n",
       "      <td>4.0</td>\n",
       "    </tr>\n",
       "    <tr>\n",
       "      <th>618</th>\n",
       "      <td>-1</td>\n",
       "      <td>287</td>\n",
       "      <td>372</td>\n",
       "      <td>-85</td>\n",
       "      <td>22</td>\n",
       "      <td>23</td>\n",
       "      <td>24</td>\n",
       "      <td>25</td>\n",
       "      <td>10</td>\n",
       "      <td>25</td>\n",
       "      <td>27</td>\n",
       "      <td>-5.3</td>\n",
       "      <td>-0.4</td>\n",
       "      <td>-5.7</td>\n",
       "      <td>-1.9</td>\n",
       "      <td>-3.8</td>\n",
       "    </tr>\n",
       "    <tr>\n",
       "      <th>619</th>\n",
       "      <td>-1</td>\n",
       "      <td>307</td>\n",
       "      <td>365</td>\n",
       "      <td>-58</td>\n",
       "      <td>25</td>\n",
       "      <td>20</td>\n",
       "      <td>21</td>\n",
       "      <td>5</td>\n",
       "      <td>29</td>\n",
       "      <td>26</td>\n",
       "      <td>14</td>\n",
       "      <td>-3.6</td>\n",
       "      <td>-0.8</td>\n",
       "      <td>-4.5</td>\n",
       "      <td>-2.2</td>\n",
       "      <td>-2.2</td>\n",
       "    </tr>\n",
       "  </tbody>\n",
       "</table>\n",
       "<p>620 rows × 16 columns</p>\n",
       "</div>"
      ],
      "text/plain": [
       "     Playoffs   PF   PA   PD  Pts  Yds  Pts.1  Yds.1  T/G  Pts±  Yds±  MoV  \\\n",
       "0           4  398  344   54   10   16     12     17    8    11    15  3.4   \n",
       "1           4  355  296   59   19   16      4      1   19    10     3  3.7   \n",
       "2           4  388  240  148   10    9      2      5    4     2     7  9.3   \n",
       "3           4  427  360   67    2    3     23     21    6     9     7  4.2   \n",
       "4           4  451  308  143    5    6      7     17    7     4    10  8.9   \n",
       "..        ...  ...  ...  ...  ...  ...    ...    ...  ...   ...   ...  ...   \n",
       "615        -1  265  296  -31   28   19      6      4   17    22    12 -1.9   \n",
       "616        -1  307  376  -69   20   13     27     31   23    24    23 -4.3   \n",
       "617        -1  240  265  -25   31   30      5      3   20    19    14 -1.6   \n",
       "618        -1  287  372  -85   22   23     24     25   10    25    27 -5.3   \n",
       "619        -1  307  365  -58   25   20     21      5   29    26    14 -3.6   \n",
       "\n",
       "     SoS   SRS  OSRS  DSRS  \n",
       "0   -0.5   2.9   1.9   1.0  \n",
       "1    2.1   5.8   0.3   5.5  \n",
       "2    1.7  10.9   3.1   7.9  \n",
       "3    1.7   5.9   6.9  -1.1  \n",
       "4    0.2   9.1   6.2   2.9  \n",
       "..   ...   ...   ...   ...  \n",
       "615  0.2  -1.8  -5.8   4.1  \n",
       "616  0.3  -4.0  -2.1  -2.0  \n",
       "617 -1.8  -3.4  -7.4   4.0  \n",
       "618 -0.4  -5.7  -1.9  -3.8  \n",
       "619 -0.8  -4.5  -2.2  -2.2  \n",
       "\n",
       "[620 rows x 16 columns]"
      ]
     },
     "execution_count": 14,
     "metadata": {},
     "output_type": "execute_result"
    }
   ],
   "source": [
    "labels_to_drop_playoffs = [\"Year\", \"Lg\", \"Tm\", \"Div. Finish\", \"Coaches\", \"AV\", \n",
    "                           \"Passer\", \"Rusher\", \"Receiver\", \"out of\",\n",
    "                           \"L\", \"T\", \"W\"]\n",
    "\n",
    "playoffs_df = nfl_df.drop(labels=labels_to_drop_playoffs, axis=1)\n",
    "\n",
    "playoffs_df"
   ]
  },
  {
   "cell_type": "markdown",
   "id": "65502234",
   "metadata": {},
   "source": [
    "#### Set the x and y values"
   ]
  },
  {
   "cell_type": "code",
   "execution_count": 15,
   "id": "fcae2137",
   "metadata": {},
   "outputs": [],
   "source": [
    "playoffs_x = playoffs_df.iloc[:, 1:].values\n",
    "playoffs_y = playoffs_df.iloc[:, 0].values"
   ]
  },
  {
   "cell_type": "markdown",
   "id": "b68668d1",
   "metadata": {},
   "source": [
    "#### Split the dataset for training"
   ]
  },
  {
   "cell_type": "code",
   "execution_count": 16,
   "id": "6c50074e",
   "metadata": {},
   "outputs": [],
   "source": [
    "playoffs_x_train, playoffs_x_test, playoffs_y_train, playoffs_y_test = train_test_split(playoffs_x, playoffs_y, test_size = 0.2, random_state = 0)"
   ]
  },
  {
   "cell_type": "markdown",
   "id": "542b41fb",
   "metadata": {},
   "source": [
    "#### Scale the dataset"
   ]
  },
  {
   "cell_type": "code",
   "execution_count": 17,
   "id": "71471d72",
   "metadata": {},
   "outputs": [],
   "source": [
    "from sklearn.preprocessing import StandardScaler\n",
    "sc = StandardScaler()\n",
    "playoffs_x_train = sc.fit_transform(playoffs_x_train)\n",
    "playoffs_x_test = sc.fit_transform(playoffs_x_test)"
   ]
  },
  {
   "cell_type": "markdown",
   "id": "06e18c48",
   "metadata": {},
   "source": [
    "#### Train the K-Means Nearest Neighbor model"
   ]
  },
  {
   "cell_type": "code",
   "execution_count": 18,
   "id": "bd3bddef",
   "metadata": {},
   "outputs": [
    {
     "data": {
      "text/plain": [
       "KNeighborsClassifier()"
      ]
     },
     "execution_count": 18,
     "metadata": {},
     "output_type": "execute_result"
    }
   ],
   "source": [
    "from sklearn.neighbors import KNeighborsClassifier\n",
    "classifier = KNeighborsClassifier(n_neighbors = 5, metric = 'minkowski', p = 2)\n",
    "classifier.fit(playoffs_x_train, playoffs_y_train)"
   ]
  },
  {
   "cell_type": "code",
   "execution_count": 19,
   "id": "de195aa1",
   "metadata": {},
   "outputs": [
    {
     "name": "stdout",
     "output_type": "stream",
     "text": [
      "Not a playoff team, sorry!\n",
      "Not a playoff team, sorry!\n",
      "Not a playoff team, sorry!\n",
      "Not a playoff team, sorry!\n",
      "Not a playoff team, sorry!\n",
      "Not a playoff team, sorry!\n",
      "Not a playoff team, sorry!\n"
     ]
    }
   ],
   "source": [
    "playoffs = [classifier.predict(caldwell_2014), classifier.predict(caldwell_2015),\n",
    "            classifier.predict(caldwell_2016), classifier.predict(caldwell_2017),\n",
    "            classifier.predict(patricia_2018), classifier.predict(patricia_2019),\n",
    "            classifier.predict(patricia_2020)]\n",
    "\n",
    "for value in playoffs:\n",
    "    if value == -1:\n",
    "        print(\"Not a playoff team, sorry!\")\n",
    "    elif value == 0:\n",
    "        print(\"Sorry your team lost the wildcard\")\n",
    "    elif value == 1:\n",
    "        print(\"Sorry your team lost the divisional championship\")\n",
    "    elif value == 2:\n",
    "        print(\"Sorry your team lost the conference championship\")\n",
    "    elif value == 3:\n",
    "        print(\"Sorry your team lost the super bowl\")\n",
    "    elif value == 4:\n",
    "        print(\"Your team won the super bowl!\")\n",
    "    else:\n",
    "        print(\"Something went wrong.\")"
   ]
  },
  {
   "cell_type": "code",
   "execution_count": 20,
   "id": "c1f3e781",
   "metadata": {},
   "outputs": [
    {
     "name": "stdout",
     "output_type": "stream",
     "text": [
      "[[72  1  0  0  0  0]\n",
      " [ 8  4  5  0  0  1]\n",
      " [ 3  2  4  0  0  0]\n",
      " [ 2  2  6  0  1  1]\n",
      " [ 0  0  1  2  1  0]\n",
      " [ 2  0  3  1  1  1]]\n"
     ]
    },
    {
     "data": {
      "text/plain": [
       "0.6612903225806451"
      ]
     },
     "execution_count": 20,
     "metadata": {},
     "output_type": "execute_result"
    }
   ],
   "source": [
    "from sklearn.metrics import confusion_matrix, accuracy_score\n",
    "\n",
    "playoffs_y_pred = classifier.predict(playoffs_x_test)\n",
    "\n",
    "cm = confusion_matrix(playoffs_y_test, playoffs_y_pred)\n",
    "\n",
    "print(cm)\n",
    "\n",
    "accuracy_score(playoffs_y_test, playoffs_y_pred)"
   ]
  },
  {
   "cell_type": "markdown",
   "id": "702255e7",
   "metadata": {},
   "source": [
    "## Conclusion on Playoffs\n",
    "\n",
    "The Lions were never a team that belonged in the playoffs based on their performances, but Jim Caldwell got them into the Wild Card round twice. I think that throws a lot of people off when it comes to Bob Quinn's decision as GM to fire Caldwell. However, it seems the Lions did need someone who could improve the team even further. Unfortunately, that person was not Matt Patricia.\n",
    "\n",
    "I also do not believe that \"improvement\" meant a completely new scheme. Even though the record did not reflect the improvement, the Lions team did improve a lot between Caldwell's second season and his fourth season. Burning everything to the ground and starting over was incredibly harmful and unnecessary. Mike Tomlin has made a career out of never having a losing season. Continuity until the Lions found a coach that could maintain the winning Culture that Caldwell brought to Detroit, as well as building upon the talent would have been a better far choice for the long-term development of this team."
   ]
  },
  {
   "cell_type": "markdown",
   "id": "e2e1a77d",
   "metadata": {},
   "source": [
    "## MCDC Moving Forward\n",
    "\n",
    "MCDC is known for his eclectic and aggressive play calling. How does it compare to more successful teams in the league though? What parts are actually working? \n",
    "\n",
    "My focus for this next analysis is how should MCDC handle 3rd and 4th downs? The Lions have only been in this situation about 100 times this year so far on offense. As a result, that dataset will include data for both 3rd and 4th down in its analysis. I'm not touching defense here I can't identify packages well enough to put together a dataset for defense.\n",
    "\n",
    "In general though, the Pareto Principle suggests that 80% of problems can be solved by finding a solution for the vital few problems (20%). Extending drives and scoring points in a way would help the defense anyway. Furthermore, any concerns regarding kicking would also be indirectly addressed through longer, more successful drives.\n",
    "\n",
    "The approach to handling this problem will be the same as solving the multi-armed bandit problem."
   ]
  },
  {
   "cell_type": "markdown",
   "id": "a5039313",
   "metadata": {},
   "source": [
    "### Which plays does MCDC have the most success converting with? \n",
    "\n",
    "0: Run Right\n",
    "\n",
    "1: Run Middle\n",
    "\n",
    "2: Run Left\n",
    "\n",
    "3: Short Pass Right\n",
    "\n",
    "4: Short Pass Middle\n",
    "\n",
    "5: Short Pass Left\n",
    "\n",
    "6: Deep Pass Right\n",
    "\n",
    "7: Deep Pass Middle\n",
    "\n",
    "8: Deep Pass Left\n",
    "\n",
    "9: Field Goal"
   ]
  },
  {
   "cell_type": "code",
   "execution_count": 21,
   "id": "f9fa194c",
   "metadata": {},
   "outputs": [],
   "source": [
    "off_conv_plays_dataset = pd.read_csv(\"./Data/Det3rdDownOff.csv\")"
   ]
  },
  {
   "cell_type": "code",
   "execution_count": 22,
   "id": "2a7a2553",
   "metadata": {},
   "outputs": [],
   "source": [
    "import math\n",
    "\n",
    "def upper_conf_bound(dataset):\n",
    "\n",
    "    N = len(dataset)\n",
    "    d = len(dataset.columns)\n",
    "\n",
    "    plays_selected = []\n",
    "    numbers_of_conversions = [0] * d\n",
    "    sums_of_rewards = [0] * d\n",
    "    total_reward = 0\n",
    "\n",
    "\n",
    "    for n in range(0, N):\n",
    "        play = 0\n",
    "        max_upper_bound = 0\n",
    "        for i in range(0, d):\n",
    "            if (numbers_of_conversions[i] > 0):\n",
    "                average_reward = sums_of_rewards[i] / numbers_of_conversions[i]\n",
    "                delta_i = math.sqrt(3/2 * math.log(n + 1) / numbers_of_conversions[i])\n",
    "                upper_bound = average_reward + delta_i\n",
    "            else:\n",
    "                upper_bound = 1e400\n",
    "            if upper_bound > max_upper_bound:\n",
    "                max_upper_bound = upper_bound\n",
    "                play = i\n",
    "            plays_selected.append(play)\n",
    "            numbers_of_conversions[play] = numbers_of_conversions[play] + 1\n",
    "            reward = dataset.values[n, play]\n",
    "            sums_of_rewards[play] = sums_of_rewards[play] + reward\n",
    "            total_reward = total_reward + reward\n",
    "            \n",
    "    return plays_selected\n",
    "            \n",
    "plays = upper_conf_bound(off_conv_plays_dataset)"
   ]
  },
  {
   "cell_type": "code",
   "execution_count": 23,
   "id": "9229d061",
   "metadata": {},
   "outputs": [
    {
     "data": {
      "image/png": "[encoded data removed]",
      "text/plain": [
       "<Figure size 432x288 with 1 Axes>"
      ]
     },
     "metadata": {
      "needs_background": "light"
     },
     "output_type": "display_data"
    }
   ],
   "source": [
    "def display_histogram(dataset, title):\n",
    "    plt.hist(dataset)\n",
    "    plt.title(title)\n",
    "    plt.xlabel('Plays')\n",
    "    plt.ylabel('Number of times each play was selected')\n",
    "    plt.show()\n",
    "    \n",
    "display_histogram(plays, \"Lions' 3rd and 4th down play selection\")"
   ]
  },
  {
   "cell_type": "markdown",
   "id": "aacd4e8f",
   "metadata": {},
   "source": [
    "## Conversion Plays Conclusion\n",
    "\n",
    "Runs and short passes seem to be the most effective ways for Detroit to convert 3rd and 4th downs. In particular, passes that favor the right side, and runs that favor the right side or middle. Short passes on the left side can also be effective. \n",
    "\n",
    "It is worth noting that the Lions currently convert 3rd downs roughly 1/3 of the time, and 4th downs nearly 1/2 of the time. It does not make sense for them to kick field goals or punt whenever they get the chance. The positional advantage would be wiped out with the amount of time the opponent would be on the field. \n",
    "\n",
    "In general, I think the aggressive approach is the right approach. Short-yardage situations do carry risk with them insofar that the opponent can get good field position, but constantly giving up the ball leaves points off the board, gives your defense a long day, and really doesn't address the issue of lackluster 3rd down conversion."
   ]
  },
  {
   "cell_type": "markdown",
   "id": "5c1dcea7",
   "metadata": {},
   "source": [
    "### Most rewarding 3rd down plays for opponents\n",
    "\n",
    "In the past two games the Detroit Lions have done a poor job shutting down drives. The result is that regardless of where they are on the field drives continue, the defense has a long day, and the opponents get a chance to score. What I want to see is which plays are the opponents finding the most success?"
   ]
  },
  {
   "cell_type": "code",
   "execution_count": 24,
   "id": "54fa1be4",
   "metadata": {},
   "outputs": [],
   "source": [
    "def_conv_plays_dataset = pd.read_csv(\"./Data/Det3rdDownDef.csv\")"
   ]
  },
  {
   "cell_type": "code",
   "execution_count": 25,
   "id": "e6a4a450",
   "metadata": {},
   "outputs": [
    {
     "data": {
      "image/png": "[encoded data removed]",
      "text/plain": [
       "<Figure size 432x288 with 1 Axes>"
      ]
     },
     "metadata": {
      "needs_background": "light"
     },
     "output_type": "display_data"
    }
   ],
   "source": [
    "opp_3down_plays = upper_conf_bound(def_conv_plays_dataset)\n",
    "display_histogram(opp_3down_plays, \"Opposing teams' plays on 3rd downs\")"
   ]
  },
  {
   "cell_type": "markdown",
   "id": "f00e1ce7",
   "metadata": {},
   "source": [
    "## Conclusion on killing drives\n",
    "\n",
    "The Lions are insanely weak against the run on 3rd downs, and it shows because that's their most rewarding play. I enjoy the aggressive style on defense, but runs and short passes are both counters to blitzing. Without looking at specific packages the Lions are likely blitzing too much on 3rd down. Either way, they've made short plays incredibly successful for conversion on 3rd down."
   ]
  },
  {
   "cell_type": "markdown",
   "id": "496bc311",
   "metadata": {},
   "source": [
    "## How many Wins should Campbell need to stick around?\n",
    "\n",
    "Successful organizations do not accept improvement for the sake of improvement because if they did data analytics would not be a field. The easiest way to figure this out is with a linear equation starting out with his first season, and with the amount of wins he'd need for his third season to get a wildcard berth. He had a record of 3 wins, 1 tie in his first season. Therefore, I will mark the first spot at (1, 3.5). The goal of the following equation is to determine with some level of accuracy the level of growth required this year and next year in order to at least get a wildcard spot in the playoffs.\n",
    "\n",
    "$$slope = \\frac{9-3.5}{3-1}\\\\\n",
    "slope = \\frac{5.5}{2}\\\\\n",
    "y = \\frac{5.5}{2}x$$\n",
    "\n",
    "The intercept is 0.75 because the first point needs to be 3.5 Therefore:\n",
    "\n",
    "$$y = \\frac{5.5}{2}x + 0.75$$\n",
    "\n",
    "Is the equation that expresses the required level of performance for MCDC to keep his job. As you can see below it puts him at 9 wins in year 3, which is the bare minimum to make the wild card. If anything, this equation is conservative in his favor and puts him on track with Jim Caldwell who was fired for back-to-back 9-7 seasons. If he carried on this growth trajectory through the next four seasons though, he would win more games than either Caldwell."
   ]
  },
  {
   "cell_type": "code",
   "execution_count": 26,
   "id": "06753a2d",
   "metadata": {},
   "outputs": [
    {
     "data": {
      "image/png": "[encoded data removed]",
      "text/plain": [
       "<Figure size 432x288 with 1 Axes>"
      ]
     },
     "metadata": {
      "needs_background": "light"
     },
     "output_type": "display_data"
    }
   ],
   "source": [
    "x = np.linspace(0,4,100)\n",
    "y = (5.5/2)*x+0.75\n",
    "\n",
    "plt.plot(x, y, label=\"y=(5.5/2)*x+0.75\")\n",
    "plt.title(\"Graph of Linear Growth for Playoffs in year 3\")\n",
    "plt.xlabel('Year')\n",
    "plt.ylabel('Required wins')\n",
    "plt.legend(loc='upper left')\n",
    "plt.grid()\n",
    "plt.show()"
   ]
  },
  {
   "cell_type": "markdown",
   "id": "f1412618",
   "metadata": {},
   "source": [
    "## Conclusion: How do the Lions move forward?\n",
    "\n",
    "In order for Dan Campbell to be the man moving forward he needs to win at least 6 games this season. I graphed a straight line of typical growth required to go from a losing team to getting into the playoffs. While it's not exactly perfect, it helps illustrate the rate of growth required for the Lions to be success in MCDC's 3rd year. Missing the mark by more than 1 game makes a logical argument for keeping MCDC around nearly impossible to form. His growth would simply be too slow for him to likely make the playoffs in less than 4 seasons, if he even pulled it off by then. Keeping the wrong person around can cost organizations millions of dollars both from their inability to deliver, and the opportunity cost of finding someone more appropriate for the role. However, this is not entirely on MCDC at the moment.\n",
    "\n",
    "The Lions also have glaring issues on their roster. Since they do not have a legitimate kicker going for it on 4th down has at times been the optimal choice. There are twitter bots that provide very slight advantages (less than 5%) for those sorts of plays, but that level of difference falls within the alpha of a typical statistical test, and therefore the null hypothesis or typical action should not be rejected. However, the Lions had no choice due to the lack of a kicker who could kick a fairly standard 51-yard field goal. The defense needs similar attention to stop the run and kill drives on 3rd downs, but that's on the GM Brad Holmes.\n",
    "\n",
    "For the most part Brad Holmes has done a great job drafting. He picked up a line backer with a ton of potential in the 6th round (Malcolm Rodriguez), and in general when his picks have played they've shown a high ceiling. However, he does draft a lot of players with injuries problems on a team that is always hindered by an unreasonable amount of injuries. I appreciate the drive to find talented players, and not try to build a team that can win now. Yet, there needs to be a balance between winning now and winning in the future. Very talented players cannot pose a threat for opposing teams on the bench. They can force gameplan adjustments by the HC suffering frorm those injuries, and make substituting players more difficult. This can be addressed by evaluating the strength and conditioning team that seems to always struggle with keeping players healthy, re-evaluating practices, and factoring in injury history a little more strongly depending on type and position. Because this would also improve the performance of the team, help reassure players they can retire from the NFL safely, and consequently help save the franchise millions of dollars while attracting highly talented players and coaches. "
   ]
  },
  {
   "cell_type": "markdown",
   "id": "15d0a050",
   "metadata": {},
   "source": [
    "# References and Notes\n",
    "\n",
    "All stats are collected from profootballreference.com. \n",
    "\n",
    "I (Joe Wildey) did all the programming, writing, and even altered the datasets minimally to make them fit required formatting for the models."
   ]
  }
 ],
 "metadata": {
  "kernelspec": {
   "display_name": "Python 3 (ipykernel)",
   "language": "python",
   "name": "python3"
  },
  "language_info": {
   "codemirror_mode": {
    "name": "ipython",
    "version": 3
   },
   "file_extension": ".py",
   "mimetype": "text/x-python",
   "name": "python",
   "nbconvert_exporter": "python",
   "pygments_lexer": "ipython3",
   "version": "3.9.12"
  }
 },
 "nbformat": 4,
 "nbformat_minor": 5
}
